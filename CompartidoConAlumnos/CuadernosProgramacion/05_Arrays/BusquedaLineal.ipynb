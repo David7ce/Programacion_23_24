{
 "cells": [
  {
   "cell_type": "markdown",
   "metadata": {},
   "source": [
    "### Esquema del patrón de Búsqueda lineal\n",
    "Búsqueda de un elemento único dentro de una lista (sin ordenar) de datos\n",
    "<br><center><img align=\"\" src=\"Busqueda_Lineal.png\" alt=\"Esquema Structorizer\" /></center>"
   ]
  },
  {
   "cell_type": "markdown",
   "metadata": {},
   "source": [
    "Codificación en C#"
   ]
  },
  {
   "cell_type": "code",
   "execution_count": 3,
   "metadata": {
    "dotnet_interactive": {
     "language": "csharp"
    },
    "polyglot_notebook": {
     "kernelName": "csharp"
    },
    "vscode": {
     "languageId": "polyglot-notebook"
    }
   },
   "outputs": [
    {
     "name": "stdout",
     "output_type": "stream",
     "text": [
      "Encontrado el 4E-05 en la posición 3 de la tabla\r\n"
     ]
    }
   ],
   "source": [
    "           float[] datos = {12.3f , 10 , -3.5f , 0.00004f};\n",
    "           const float DATO_BUSCADO = 0.00004f;\n",
    "           int i=0;\n",
    "\n",
    "           while(DATO_BUSCADO != datos[i] & i<datos.Length-1) {\n",
    "               i++;\n",
    "           }\n",
    "           if (DATO_BUSCADO == datos[i])\n",
    "               Console.WriteLine(\"Encontrado el {0} en la posición {1} de la tabla\", DATO_BUSCADO, i);\n",
    "           else\n",
    "               Console.WriteLine(\"El dato {0} no está entre los datos.\",DATO_BUSCADO);\n"
   ]
  }
 ],
 "metadata": {
  "language_info": {
   "name": "csharp"
  }
 },
 "nbformat": 4,
 "nbformat_minor": 2
}
