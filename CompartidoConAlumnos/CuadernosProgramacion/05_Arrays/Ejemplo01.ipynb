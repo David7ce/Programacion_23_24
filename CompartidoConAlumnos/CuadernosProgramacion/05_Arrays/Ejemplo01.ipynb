{
 "cells": [
  {
   "cell_type": "code",
   "execution_count": 2,
   "metadata": {
    "dotnet_interactive": {
     "language": "csharp"
    },
    "polyglot_notebook": {
     "kernelName": "csharp"
    },
    "vscode": {
     "languageId": "polyglot-notebook"
    }
   },
   "outputs": [
    {
     "name": "stdout",
     "output_type": "stream",
     "text": [
      "El valor de tabla[0] es: 1\n",
      "El valor de tabla[1] es: 3\n",
      "El valor de tabla[2] es: 6\n",
      "El valor de tabla[3] es: 10\n",
      "El valor de tabla[4] es: 15\n",
      "El valor de tabla[5] es: 21\n",
      "El valor de tabla[6] es: 28\n",
      "El valor de tabla[7] es: 36\n",
      "El valor de tabla[8] es: 45\n",
      "El valor de tabla[9] es: 55\n",
      "El valor de tabla[10] es: 66\n",
      "El valor de tabla[11] es: 78\n",
      "El valor de tabla[12] es: 91\n",
      "El valor de tabla[13] es: 105\n",
      "El valor de tabla[14] es: 120\n",
      "El valor de tabla[15] es: 136\n",
      "El valor de tabla[16] es: 153\n",
      "El valor de tabla[17] es: 171\n",
      "El valor de tabla[18] es: 190\n",
      "El valor de tabla[19] es: 210\n",
      "FIN\n"
     ]
    }
   ],
   "source": [
    "const int TAM = 20;\n",
    "int[] tabla = new int[TAM];\n",
    "int suma=0;\n",
    "int i;\n",
    "for(i=1 ; i <= TAM ; i++ ) {\n",
    "    suma = suma + i;\n",
    "    tabla[i-1]=suma;\n",
    "}\n",
    "for(i=0 ; i < TAM ; i++ ) {\n",
    "    Console.WriteLine(\"El valor de tabla[{0}] es: {1}\",i,tabla[i]);\n",
    "}\n",
    "Console.WriteLine(\"FIN\");    "
   ]
  }
 ],
 "metadata": {
  "language_info": {
   "name": "csharp"
  }
 },
 "nbformat": 4,
 "nbformat_minor": 2
}
