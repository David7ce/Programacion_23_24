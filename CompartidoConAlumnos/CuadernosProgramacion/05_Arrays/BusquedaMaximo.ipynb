{
 "cells": [
  {
   "cell_type": "markdown",
   "metadata": {},
   "source": [
    "### Esquema del patrón de Búsqueda de un máximo\n",
    "Búsqueda de el elemento mayor dentro de una serie (sin ordenar) de dato\n",
    "<br><center><img align=\"\" src=\"ArrayAlturas3D.jpg\" alt=\"Tabla de tres dimensiones dinnamica\" /></center>"
   ]
  },
  {
   "cell_type": "markdown",
   "metadata": {},
   "source": [
    "Codificación en C#"
   ]
  },
  {
   "cell_type": "code",
   "execution_count": null,
   "metadata": {
    "dotnet_interactive": {
     "language": "csharp"
    },
    "polyglot_notebook": {
     "kernelName": "csharp"
    }
   },
   "outputs": [],
   "source": [
    "        int i, r, curso;\n",
    "        int iMax, rMax, cursoMax;\n",
    "        iMax = rMax = cursoMax = 0;\n",
    "        double alturamaxima;\n",
    "        double[][][] tabla = {\n",
    "            //1ºCurso\n",
    "            new double[][] {\n",
    "              new double[]{ 1.89,1.79,1.67,1.56,1.90,1.59}, //norepetidor\n",
    "              new double[] {1.60,1.40,1.30,1.34} //repetidor\n",
    "            },\n",
    "            //2ºCurso\n",
    "            new double[][] {\n",
    "              new double[]{ 1.12,1.23,1.34,1.45,1.56,1.67,1.78,1.89,1.91}, //norepetidor\n",
    "              new double[] {} //repetidor\n",
    "            },\n",
    "            //3ºCurso\n",
    "            new double[][] {\n",
    "              new double[]{ 1.80,1.65,1.97,1.76}, //norepetidor\n",
    "              new double[] {1.00,1.05,1.66,1.30} //repetidor\n",
    "            },\n",
    "            //4ºCurso\n",
    "            new double[][] {\n",
    "              new double[]{0.90,1.34,1.47,1.09,1.12,1.14}, //norepetidor\n",
    "              new double[] {1.88,1.40,1.97,1.22,1.65,1.33,1.55} //repetidor\n",
    "            }\n",
    "         };\n",
    "\n",
    "        alturamaxima = 0;     //Double.NegativeInfinity;\n",
    "        for (curso = 0; curso < tabla.Length; curso++)\n",
    "        {\n",
    "            for (r = 0; r < tabla[curso].Length; r++)\n",
    "            {\n",
    "                for (i = 0; i < tabla[curso][r].Length; i++)\n",
    "                {\n",
    "                    if (tabla[curso][r][i] > alturamaxima)\n",
    "                    {\n",
    "                        alturamaxima = tabla[curso][r][i];\n",
    "                        cursoMax = curso;\n",
    "                        rMax = r;\n",
    "                        iMax = i;\n",
    "                    }\n",
    "                }\n",
    "            }\n",
    "        }\n",
    "        Console.WriteLine(alturamaxima);\n",
    "        Console.WriteLine(\"Se trata del un alumno/a de {0}ºESO.\",cursoMax+1);\n",
    "        Console.WriteLine(\"{0}s repetidor.\", rMax==0?\"No e\":\"E\");\n"
   ]
  }
 ],
 "metadata": {
  "language_info": {
   "name": "csharp"
  }
 },
 "nbformat": 4,
 "nbformat_minor": 2
}
