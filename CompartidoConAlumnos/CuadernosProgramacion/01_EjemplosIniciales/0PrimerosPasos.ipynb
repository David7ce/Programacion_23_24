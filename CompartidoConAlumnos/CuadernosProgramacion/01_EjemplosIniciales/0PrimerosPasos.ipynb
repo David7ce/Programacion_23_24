{
 "cells": [
  {
   "cell_type": "markdown",
   "metadata": {},
   "source": [
    "## Primeros pasos con C#"
   ]
  },
  {
   "cell_type": "markdown",
   "metadata": {},
   "source": [
    "### Ejemplo básico \"HolaMundo\":\n",
    "Nuestro primer código hacía tan solo dos cosas:\n",
    "1. Nos pedía que escribieramos nuestro nombre.\n",
    "2. Nos respondía saludándonos."
   ]
  },
  {
   "cell_type": "markdown",
   "metadata": {},
   "source": [
    "![Diagrama de Cajas](0DiagramaDeCajas.png \"Diagrama NS\")"
   ]
  },
  {
   "cell_type": "markdown",
   "metadata": {},
   "source": [
    "----\n",
    "<br/>\n",
    "Este programa, lo podemos codificar en C# y ejecutarlo integrando en los notebooks poliglot de este modo..."
   ]
  },
  {
   "cell_type": "code",
   "execution_count": 1,
   "metadata": {
    "dotnet_interactive": {
     "language": "csharp"
    },
    "polyglot_notebook": {
     "kernelName": "csharp"
    },
    "vscode": {
     "languageId": "polyglot-notebook"
    }
   },
   "outputs": [
    {
     "name": "stdout",
     "output_type": "stream",
     "text": [
      "¿Cuál es tú nombre?\n",
      "Hola Juana Elena\n"
     ]
    }
   ],
   "source": [
    "String nombre_leidoDeConsola;\n",
    "Console.WriteLine(\"¿Cuál es tú nombre?\");\n",
    "nombre_leidoDeConsola = /* Console.ReadLine();*/  \"Juana Elena\";\n",
    "Console.WriteLine(\"Hola \"+nombre_leidoDeConsola); "
   ]
  }
 ],
 "metadata": {
  "kernelspec": {
   "display_name": ".NET (C#)",
   "language": "C#",
   "name": ".net-csharp"
  },
  "language_info": {
   "file_extension": ".cs",
   "mimetype": "text/x-csharp",
   "name": "C#",
   "pygments_lexer": "csharp",
   "version": "11.0"
  },
  "polyglot_notebook": {
   "kernelInfo": {
    "defaultKernelName": "csharp",
    "items": [
     {
      "aliases": [],
      "languageName": "csharp",
      "name": "csharp"
     }
    ]
   }
  }
 },
 "nbformat": 4,
 "nbformat_minor": 2
}
