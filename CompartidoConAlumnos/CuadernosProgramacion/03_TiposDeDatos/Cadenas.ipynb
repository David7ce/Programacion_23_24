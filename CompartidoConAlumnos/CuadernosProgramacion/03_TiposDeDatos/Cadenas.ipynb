{
 "cells": [
  {
   "cell_type": "code",
   "execution_count": 2,
   "metadata": {
    "dotnet_interactive": {
     "language": "csharp"
    },
    "polyglot_notebook": {
     "kernelName": "csharp"
    },
    "vscode": {
     "languageId": "polyglot-notebook"
    }
   },
   "outputs": [
    {
     "name": "stdout",
     "output_type": "stream",
     "text": [
      "Hey colega... , ¿qué tal?\n",
      "Hola, ¿qué tal?\n"
     ]
    }
   ],
   "source": [
    "String s = \"Hola, ¿qué tal?\";\n",
    "String s2 = s;\n",
    "s = s.Replace(\"Hola\", \"Hey colega... \");\n",
    "Console.WriteLine(s);\n",
    "Console.WriteLine(s2);"
   ]
  }
 ],
 "metadata": {
  "language_info": {
   "name": "csharp"
  }
 },
 "nbformat": 4,
 "nbformat_minor": 2
}
