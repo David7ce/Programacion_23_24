{
 "cells": [
  {
   "cell_type": "code",
   "execution_count": 41,
   "metadata": {
    "dotnet_interactive": {
     "language": "csharp"
    },
    "polyglot_notebook": {
     "kernelName": "csharp"
    },
    "vscode": {
     "languageId": "polyglot-notebook"
    }
   },
   "outputs": [],
   "source": [
    "using Microsoft.DotNet.Interactive;\n",
    "// await Kernel.GetInputAsync(\"Introduce un número entero: \");"
   ]
  },
  {
   "cell_type": "code",
   "execution_count": 1,
   "metadata": {
    "dotnet_interactive": {
     "language": "csharp"
    },
    "polyglot_notebook": {
     "kernelName": "csharp"
    },
    "vscode": {
     "languageId": "polyglot-notebook"
    }
   },
   "outputs": [
    {
     "name": "stdout",
     "output_type": "stream",
     "text": [
      "23.15\n",
      "23\n"
     ]
    }
   ],
   "source": [
    "double dNumber = 23.15;\n",
    "\n",
    "Console.WriteLine(dNumber);\n",
    "\n",
    "// Returns 23\n",
    "int    iNumber = Convert.ToInt32(dNumber);\n",
    "Console.WriteLine(iNumber);"
   ]
  },
  {
   "cell_type": "code",
   "execution_count": 6,
   "metadata": {
    "dotnet_interactive": {
     "language": "csharp"
    },
    "polyglot_notebook": {
     "kernelName": "csharp"
    },
    "vscode": {
     "languageId": "polyglot-notebook"
    }
   },
   "outputs": [
    {
     "name": "stdout",
     "output_type": "stream",
     "text": [
      "False\r\n"
     ]
    }
   ],
   "source": [
    "// Returns True\n",
    "//bool   bNumber = System.Convert.ToBoolean(dNumber);\n",
    "bool   bNumber = 45<0;\n",
    "Console.WriteLine(bNumber);"
   ]
  },
  {
   "cell_type": "code",
   "execution_count": 12,
   "metadata": {
    "dotnet_interactive": {
     "language": "csharp"
    },
    "polyglot_notebook": {
     "kernelName": "csharp"
    },
    "vscode": {
     "languageId": "polyglot-notebook"
    }
   },
   "outputs": [
    {
     "name": "stdout",
     "output_type": "stream",
     "text": [
      "24.15\n",
      "23.151\n"
     ]
    }
   ],
   "source": [
    "// Returns \"23.15\"\n",
    "string strNumber = System.Convert.ToString(dNumber);\n",
    "    Console.WriteLine(dNumber+1);\n",
    "    Console.WriteLine(strNumber+1);\n",
    "    // Error: Console.WriteLine(dNumber+true);"
   ]
  },
  {
   "cell_type": "code",
   "execution_count": 22,
   "metadata": {
    "dotnet_interactive": {
     "language": "csharp"
    },
    "polyglot_notebook": {
     "kernelName": "csharp"
    },
    "vscode": {
     "languageId": "polyglot-notebook"
    }
   },
   "outputs": [
    {
     "name": "stdout",
     "output_type": "stream",
     "text": [
      "2\n",
      "A\n",
      "65\n",
      "66\n",
      "B\n",
      "66\n"
     ]
    }
   ],
   "source": [
    "// Returns '2'\n",
    "char chrNumber = strNumber[0];\n",
    "char letra = 'A';\n",
    "Console.WriteLine(chrNumber);\n",
    "Console.WriteLine(letra);\n",
    "Console.WriteLine((int)letra);\n",
    "Console.WriteLine(letra+1);\n",
    "Console.WriteLine((char)(letra + 1));\n",
    "Console.WriteLine((char)letra + 1);\n"
   ]
  },
  {
   "cell_type": "code",
   "execution_count": 43,
   "metadata": {
    "dotnet_interactive": {
     "language": "csharp"
    },
    "polyglot_notebook": {
     "kernelName": "csharp"
    },
    "vscode": {
     "languageId": "polyglot-notebook"
    }
   },
   "outputs": [
    {
     "name": "stdout",
     "output_type": "stream",
     "text": [
      "Introduce un entero (EN LA CAJA DE EDICIÓN):\n",
      "Your integer as a double is 345\n"
     ]
    }
   ],
   "source": [
    "// System.Console.ReadLine() returns a string and it\n",
    "// must be converted.\n",
    "int newInteger = 0;\n",
    "System.Console.WriteLine(\"Introduce un entero (EN LA CAJA DE EDICIÓN):\");\n",
    "newInteger = Convert.ToInt32(await Kernel.GetInputAsync(\"Introduce un número entero: \"));\n",
    "System.Console.WriteLine(\"Your integer as a double is {0}\", (double)(newInteger));"
   ]
  },
  {
   "cell_type": "code",
   "execution_count": 39,
   "metadata": {
    "dotnet_interactive": {
     "language": "csharp"
    },
    "polyglot_notebook": {
     "kernelName": "csharp"
    },
    "vscode": {
     "languageId": "polyglot-notebook"
    }
   },
   "outputs": [
    {
     "name": "stdout",
     "output_type": "stream",
     "text": [
      "32\r\n"
     ]
    }
   ],
   "source": [
    "decimal x = (decimal)32;\n",
    "Console.WriteLine(x);\n"
   ]
  }
 ],
 "metadata": {
  "language_info": {
   "name": "csharp"
  }
 },
 "nbformat": 4,
 "nbformat_minor": 2
}
