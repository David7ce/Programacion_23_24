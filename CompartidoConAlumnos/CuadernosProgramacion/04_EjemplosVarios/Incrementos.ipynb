{
 "cells": [
  {
   "cell_type": "code",
   "execution_count": 2,
   "metadata": {
    "dotnet_interactive": {
     "language": "csharp"
    },
    "polyglot_notebook": {
     "kernelName": "csharp"
    },
    "vscode": {
     "languageId": "polyglot-notebook"
    }
   },
   "outputs": [],
   "source": [
    "int x;"
   ]
  },
  {
   "cell_type": "code",
   "execution_count": 9,
   "metadata": {
    "dotnet_interactive": {
     "language": "csharp"
    },
    "polyglot_notebook": {
     "kernelName": "csharp"
    },
    "vscode": {
     "languageId": "polyglot-notebook"
    }
   },
   "outputs": [
    {
     "name": "stdout",
     "output_type": "stream",
     "text": [
      "6\n",
      "x=5\n"
     ]
    }
   ],
   "source": [
    "x=5;\n",
    "// muestra __ y la x valdrá __\n",
    "Console.WriteLine(x+1);\n",
    "Console.WriteLine(\"x={0}\",x);"
   ]
  },
  {
   "cell_type": "code",
   "execution_count": 10,
   "metadata": {
    "dotnet_interactive": {
     "language": "csharp"
    },
    "polyglot_notebook": {
     "kernelName": "csharp"
    },
    "vscode": {
     "languageId": "polyglot-notebook"
    }
   },
   "outputs": [
    {
     "name": "stdout",
     "output_type": "stream",
     "text": [
      "5\n",
      "x=6\n"
     ]
    }
   ],
   "source": [
    "x=5;\n",
    "// muestra __ y la x valdrá __\n",
    "Console.WriteLine(x++);\n",
    "Console.WriteLine(\"x=\"+x);"
   ]
  },
  {
   "cell_type": "code",
   "execution_count": 11,
   "metadata": {
    "dotnet_interactive": {
     "language": "csharp"
    },
    "polyglot_notebook": {
     "kernelName": "csharp"
    },
    "vscode": {
     "languageId": "polyglot-notebook"
    }
   },
   "outputs": [
    {
     "name": "stdout",
     "output_type": "stream",
     "text": [
      "6\n",
      "x=6\n"
     ]
    }
   ],
   "source": [
    "x=5;\n",
    "// muestra __ y la x valdrá __\n",
    "Console.WriteLine(++x);\n",
    "Console.WriteLine(\"x=\"+x);"
   ]
  },
  {
   "cell_type": "code",
   "execution_count": 14,
   "metadata": {
    "dotnet_interactive": {
     "language": "csharp"
    },
    "polyglot_notebook": {
     "kernelName": "csharp"
    },
    "vscode": {
     "languageId": "polyglot-notebook"
    }
   },
   "outputs": [
    {
     "name": "stdout",
     "output_type": "stream",
     "text": [
      "21\n",
      "x=16\n"
     ]
    }
   ],
   "source": [
    "x=5;\n",
    "// muestra __ y la x valdrá __\n",
    "Console.WriteLine(x+ (x = x++ + (x-1) + x++));\n",
    "Console.WriteLine(\"x=\"+x);"
   ]
  }
 ],
 "metadata": {
  "language_info": {
   "name": "csharp"
  }
 },
 "nbformat": 4,
 "nbformat_minor": 2
}
