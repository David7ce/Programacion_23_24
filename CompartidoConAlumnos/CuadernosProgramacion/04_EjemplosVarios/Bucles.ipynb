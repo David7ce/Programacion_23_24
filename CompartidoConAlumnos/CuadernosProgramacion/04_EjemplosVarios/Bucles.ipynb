{
 "cells": [
  {
   "cell_type": "markdown",
   "metadata": {},
   "source": [
    "Bucle con la condición al principio. Permite entre 0 o más repeticiones."
   ]
  },
  {
   "cell_type": "code",
   "execution_count": 1,
   "metadata": {
    "dotnet_interactive": {
     "language": "csharp"
    },
    "polyglot_notebook": {
     "kernelName": "csharp"
    },
    "vscode": {
     "languageId": "polyglot-notebook"
    }
   },
   "outputs": [
    {
     "name": "stdout",
     "output_type": "stream",
     "text": [
      "El numero es 23...\n",
      "El numero es 2...\n",
      "El numero es 5...\n",
      "Hemos decidido salir del programa...\n"
     ]
    }
   ],
   "source": [
    "using Microsoft.DotNet.Interactive;\n",
    "int numero;\n",
    "numero = Convert.ToInt32(await Kernel.GetInputAsync(\"Dame un número: \"));\n",
    "while(numero != 0) {\n",
    "    Console.WriteLine(\"El numero es {0}...\",numero);\n",
    "    numero = Convert.ToInt32(await Kernel.GetInputAsync(\"Dame un número: \"));\n",
    "}\n",
    "Console.WriteLine(\"Hemos decidido salir del programa...\");        "
   ]
  },
  {
   "cell_type": "markdown",
   "metadata": {},
   "source": [
    "Bucle con la condición al final. Permite entre 1 o más repeticiones."
   ]
  },
  {
   "cell_type": "code",
   "execution_count": 2,
   "metadata": {
    "dotnet_interactive": {
     "language": "csharp"
    },
    "polyglot_notebook": {
     "kernelName": "csharp"
    },
    "vscode": {
     "languageId": "polyglot-notebook"
    }
   },
   "outputs": [
    {
     "name": "stdout",
     "output_type": "stream",
     "text": [
      "El numero es 2...\n",
      "El numero es 564...\n",
      "El numero es 0...\n",
      "Hemos decidido salir del programa...\n"
     ]
    }
   ],
   "source": [
    "using Microsoft.DotNet.Interactive;\n",
    "int numero;\n",
    "do {\n",
    "    numero = Convert.ToInt32(await Kernel.GetInputAsync(\"Dame un número: \"));\n",
    "    Console.WriteLine(\"El numero es {0}...\",numero);\n",
    "}while(numero != 0);\n",
    "Console.WriteLine(\"Hemos decidido salir del programa...\");        "
   ]
  },
  {
   "cell_type": "code",
   "execution_count": 7,
   "metadata": {
    "dotnet_interactive": {
     "language": "csharp"
    },
    "polyglot_notebook": {
     "kernelName": "csharp"
    },
    "vscode": {
     "languageId": "polyglot-notebook"
    }
   },
   "outputs": [
    {
     "name": "stdout",
     "output_type": "stream",
     "text": [
      "El número es 1...\n",
      "El número es 2...\n",
      "El número es 3...\n",
      "El número es 4...\n",
      "El número es 5...\n",
      "El número es 6...\n",
      "El número es 7...\n",
      "El número es 8...\n",
      "El número es 9...\n",
      "El número es 10...\n",
      "Hemos decidido salir del programa...\n"
     ]
    }
   ],
   "source": [
    "int numero;\n",
    "for(numero=1 ; numero <= 10 ; numero++ ) {\n",
    "    Console.WriteLine(\"El número es {0}...\",numero);\n",
    "}\n",
    "Console.WriteLine(\"Hemos decidido salir del programa...\");        "
   ]
  },
  {
   "cell_type": "code",
   "execution_count": 7,
   "metadata": {
    "dotnet_interactive": {
     "language": "csharp"
    },
    "polyglot_notebook": {
     "kernelName": "csharp"
    },
    "vscode": {
     "languageId": "polyglot-notebook"
    }
   },
   "outputs": [
    {
     "name": "stdout",
     "output_type": "stream",
     "text": [
      "Repetición 1...\n",
      "\tAbdominal: 1...\n",
      "\tAbdominal: 2...\n",
      "\tAbdominal: 3...\n",
      "\tAbdominal: 4...\n",
      "\tFlexión: 1...\n",
      "\tFlexión: 2...\n",
      "\tFlexión: 3...\n",
      "\tFlexión: 4...\n",
      "\tSentadilla: 1...\n",
      "\tSentadilla: 2...\n",
      "Repetición 2...\n",
      "\tAbdominal: 1...\n",
      "\tAbdominal: 2...\n",
      "\tAbdominal: 3...\n",
      "\tAbdominal: 4...\n",
      "\tFlexión: 1...\n",
      "\tFlexión: 2...\n",
      "\tFlexión: 3...\n",
      "\tFlexión: 4...\n",
      "\tSentadilla: 1...\n",
      "\tSentadilla: 2...\n",
      "Repetición 3...\n",
      "\tAbdominal: 1...\n",
      "\tAbdominal: 2...\n",
      "\tAbdominal: 3...\n",
      "\tAbdominal: 4...\n",
      "\tFlexión: 1...\n",
      "\tFlexión: 2...\n",
      "\tFlexión: 3...\n",
      "\tFlexión: 4...\n",
      "\tSentadilla: 1...\n",
      "\tSentadilla: 2...\n",
      "Ejercicio Conseguido\n"
     ]
    }
   ],
   "source": [
    "int repeticion;\n",
    "int flex, sent;\n",
    "for(repeticion=1 ; repeticion <= 3 ; repeticion++ ) {\n",
    "    Console.WriteLine(\"Repetición {0}...\",repeticion);\n",
    "    for(abdom=1 ; abdom <= 4 ; abdom++ ) {\n",
    "        Console.WriteLine(\"\\tAbdominal: {0}...\",abdom);\n",
    "    }\n",
    "    for(flex=1 ; flex <= 4 ; flex++ ) {\n",
    "        Console.WriteLine(\"\\tFlexión: {0}...\",flex);\n",
    "    }\n",
    "    for(sent=1 ; sent <= 2 ; sent++ ) {\n",
    "        Console.WriteLine(\"\\tSentadilla: {0}...\",sent);\n",
    "    }\n",
    "}\n",
    "Console.WriteLine(\"Ejercicio Conseguido\"); \n",
    "       "
   ]
  }
 ],
 "metadata": {
  "language_info": {
   "name": "csharp"
  }
 },
 "nbformat": 4,
 "nbformat_minor": 2
}
