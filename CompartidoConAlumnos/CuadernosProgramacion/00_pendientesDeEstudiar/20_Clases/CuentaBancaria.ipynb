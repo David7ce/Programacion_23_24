{
 "cells": [
  {
   "cell_type": "markdown",
   "metadata": {},
   "source": [
    "# Methods and Exceptions\n",
    "\n",
    "Watch the full [C# 101 video](https://www.youtube.com/watch?v=8YsoBBiVVzQ&list=PLdo4fOcmZ0oVxKLQCHpiUWun7vlJJvUiN&index=18) for this module.\n",
    "\n",
    "Below is the code you've made so far. Balance is gotten by summing up the lists of transactions, but you haven't written a way to add a transaction. This happens plenty of times in coding, where to make something more robust, you have to take a step back before going forward.\n",
    "\n",
    "> Run the code cells below."
   ]
  },
  {
   "cell_type": "code",
   "execution_count": 25,
   "metadata": {
    "dotnet_interactive": {
     "language": "csharp"
    },
    "polyglot_notebook": {
     "kernelName": "csharp"
    }
   },
   "outputs": [],
   "source": [
    "public class Transaction\n",
    "{\n",
    "    // Properties\n",
    "    public decimal Amount { get; }\n",
    "    public DateTime Date { get; }\n",
    "    public string Notes\n",
    "    {\n",
    "        get;\n",
    "\n",
    "    }\n",
    "\n",
    "    // Constructor\n",
    "    public Transaction(decimal amount, DateTime date, string note)\n",
    "    {\n",
    "        this.Amount = amount;\n",
    "        this.Date = date;\n",
    "        this.Notes = note;\n",
    "    }\n",
    "}"
   ]
  },
  {
   "cell_type": "code",
   "execution_count": 26,
   "metadata": {
    "dotnet_interactive": {
     "language": "csharp"
    },
    "polyglot_notebook": {
     "kernelName": "csharp"
    }
   },
   "outputs": [],
   "source": [
    "using System.Collections.Generic;\n",
    "\n",
    "public class BankAccount\n",
    "{\n",
    "    // Properties\n",
    "    public string Number { get; }\n",
    "    public string Owner { get; set; }\n",
    "    public decimal Balance\n",
    "    {\n",
    "        get\n",
    "\n",
    "        {\n",
    "            decimal balance = 0;\n",
    "            foreach (var item in allTransactions)\n",
    "            {\n",
    "                balance += item.Amount;\n",
    "            }\n",
    "\n",
    "            return balance;\n",
    "        }\n",
    "\n",
    "    }\n",
    "    private static int accountNumberSeed = 1234567890;\n",
    "    private List<Transaction> allTransactions = new List<Transaction>();\n",
    "\n",
    "    // Constructor\n",
    "    public BankAccount(string name, decimal initialBalance)\n",
    "    {\n",
    "        this.Owner = name;\n",
    "        this.Number = accountNumberSeed.ToString();\n",
    "        accountNumberSeed++;\n",
    "\n",
    "    }\n",
    "\n",
    "    // Functions\n",
    "    public void MakeDeposit(decimal amount, DateTime date, string note)\n",
    "    {\n",
    "    }\n",
    "\n",
    "    public void MakeWithdrawal(decimal amount, DateTime date, string note)\n",
    "    {\n",
    "    }\n",
    "}"
   ]
  },
  {
   "cell_type": "code",
   "execution_count": 27,
   "metadata": {
    "dotnet_interactive": {
     "language": "csharp"
    },
    "polyglot_notebook": {
     "kernelName": "csharp"
    }
   },
   "outputs": [
    {
     "name": "stdout",
     "output_type": "stream",
     "text": [
      "Account 1234567890 was created for Kendra with 0 dollars\n"
     ]
    }
   ],
   "source": [
    "// Testing Code\n",
    "\n",
    "var account = new BankAccount(\"Kendra\", 1000);\n",
    "Console.WriteLine($\"Account {account.Number} was created for {account.Owner} with {account.Balance} dollars\");"
   ]
  },
  {
   "cell_type": "markdown",
   "metadata": {},
   "source": [
    "## #1: Adding deposits\n",
    "\n",
    "First things first, time to make a deposit function. This addition will make a transaction listing the amount, date, and a note that you're depositing, and then adds it to the transaction list.\n",
    "\n",
    "> Add this code inside MakeDeposit.\n",
    "\n",
    "```csharp\n",
    "    var deposit = new Transaction(amount, date, note);\n",
    "    allTransactions.Add(deposit);\n",
    "```"
   ]
  },
  {
   "cell_type": "code",
   "execution_count": 28,
   "metadata": {
    "dotnet_interactive": {
     "language": "csharp"
    },
    "polyglot_notebook": {
     "kernelName": "csharp"
    }
   },
   "outputs": [],
   "source": [
    "using System.Collections.Generic;\n",
    "\n",
    "public class BankAccount\n",
    "{\n",
    "    // Properties\n",
    "    public string Number { get; }\n",
    "    public string Owner { get; set; }\n",
    "    public decimal Balance\n",
    "    {\n",
    "        get\n",
    "\n",
    "        {\n",
    "            decimal balance = 0;\n",
    "            foreach (var item in allTransactions)\n",
    "            {\n",
    "                balance += item.Amount;\n",
    "            }\n",
    "\n",
    "            return balance;\n",
    "        }\n",
    "\n",
    "\n",
    "    }\n",
    "    private static int accountNumberSeed = 1234567890;\n",
    "    private List<Transaction> allTransactions = new List<Transaction>();\n",
    "\n",
    "    // Constructor\n",
    "    public BankAccount(string name, decimal initialBalance)\n",
    "    {\n",
    "        this.Owner = name;\n",
    "        this.Number = accountNumberSeed.ToString();\n",
    "        accountNumberSeed++;\n",
    "\n",
    "    }\n",
    "\n",
    "    // Functions\n",
    "    public void MakeDeposit(decimal amount, DateTime date, string note)\n",
    "    {\n",
    "        //Add code here!\n",
    "    }\n",
    "\n",
    "    public void MakeWithdrawal(decimal amount, DateTime date, string note)\n",
    "    {\n",
    "    }\n",
    "}"
   ]
  },
  {
   "cell_type": "markdown",
   "metadata": {},
   "source": []
  },
  {
   "cell_type": "markdown",
   "metadata": {},
   "source": [
    "## #2: Exceptions\n",
    "\n",
    "But what if someone tries to deposit negative money? That doesn't make logical sense, but currently the method allows for that. What you can do is make an exception. Before doing anything, you check that the amount deposited is more than 0. If it is, awesome, the code moves on to adding the transaction. If not, the code throws an exception, where it stops the code and prints out the issue.\n",
    "\n",
    "> Place this code in the very beginning of the `MakeDeposit` method.\n",
    "\n",
    "```\n",
    "if (amount <= 0)\n",
    "    {\n",
    "        throw new ArgumentOutOfRangeException(nameof(amount), \"Amount of deposit must be positive\");\n",
    "    }\n",
    "```"
   ]
  },
  {
   "cell_type": "code",
   "execution_count": 29,
   "metadata": {
    "dotnet_interactive": {
     "language": "csharp"
    },
    "polyglot_notebook": {
     "kernelName": "csharp"
    }
   },
   "outputs": [],
   "source": [
    "using System.Collections.Generic;\n",
    "\n",
    "public class BankAccount\n",
    "{\n",
    "    // Properties\n",
    "    public string Number { get; }\n",
    "    public string Owner { get; set; }\n",
    "    public decimal Balance\n",
    "    {\n",
    "        get\n",
    "\n",
    "        {\n",
    "            decimal balance = 0;\n",
    "            foreach (var item in allTransactions)\n",
    "            {\n",
    "                balance += item.Amount;\n",
    "            }\n",
    "\n",
    "            return balance;\n",
    "        }\n",
    "\n",
    "    }\n",
    "    private static int accountNumberSeed = 1234567890;\n",
    "    private List<Transaction> allTransactions = new List<Transaction>();\n",
    "\n",
    "    // Constructor\n",
    "    public BankAccount(string name, decimal initialBalance)\n",
    "    {\n",
    "        this.Owner = name;\n",
    "        this.Number = accountNumberSeed.ToString();\n",
    "        accountNumberSeed++;\n",
    "\n",
    "    }\n",
    "\n",
    "    // Functions\n",
    "    public void MakeDeposit(decimal amount, DateTime date, string note)\n",
    "    {\n",
    "        //Add Code here!\n",
    "\n",
    "        var deposit = new Transaction(amount, date, note);\n",
    "        allTransactions.Add(deposit);\n",
    "    }\n",
    "\n",
    "    public void MakeWithdrawal(decimal amount, DateTime date, string note)\n",
    "    {\n",
    "    }\n",
    "}"
   ]
  },
  {
   "cell_type": "markdown",
   "metadata": {},
   "source": [
    "## #3: Adding withdrawal\n",
    "\n",
    "Now you need to do the same thing for the withdrawal!\n",
    "\n",
    "> Add this code to MakeWithdrawal.\n",
    "\n",
    "```csharp\n",
    "if (amount <= 0)\n",
    "    {\n",
    "        throw new ArgumentOutOfRangeException(nameof(amount), \"Amount of withdrawal must be positive\");\n",
    "    }\n",
    "    if (Balance - amount < 0)\n",
    "    {\n",
    "        throw new InvalidOperationException(\"Not sufficient funds for this withdrawal\");\n",
    "    }\n",
    "    var withdrawal = new Transaction(-amount, date, note);\n",
    "    allTransactions.Add(withdrawal);\n",
    "```"
   ]
  },
  {
   "cell_type": "code",
   "execution_count": 30,
   "metadata": {
    "dotnet_interactive": {
     "language": "csharp"
    },
    "polyglot_notebook": {
     "kernelName": "csharp"
    }
   },
   "outputs": [],
   "source": [
    "using System.Collections.Generic;\n",
    "\n",
    "public class BankAccount\n",
    "{\n",
    "    // Properties\n",
    "    public string Number { get; }\n",
    "    public string Owner { get; set; }\n",
    "    public decimal Balance\n",
    "    {\n",
    "        get\n",
    "\n",
    "        {\n",
    "            decimal balance = 0;\n",
    "            foreach (var item in allTransactions)\n",
    "            {\n",
    "                balance += item.Amount;\n",
    "            }\n",
    "\n",
    "            return balance;\n",
    "        }\n",
    "\n",
    "\n",
    "    }\n",
    "    private static int accountNumberSeed = 1234567890;\n",
    "    private List<Transaction> allTransactions = new List<Transaction>();\n",
    "\n",
    "    // Constructor\n",
    "    public BankAccount(string name, decimal initialBalance)\n",
    "    {\n",
    "        this.Owner = name;\n",
    "        this.Number = accountNumberSeed.ToString();\n",
    "        accountNumberSeed++;\n",
    "\n",
    "    }\n",
    "\n",
    "    // Functions\n",
    "    public void MakeDeposit(decimal amount, DateTime date, string note)\n",
    "    {\n",
    "        if (amount <= 0)\n",
    "        {\n",
    "            throw new ArgumentOutOfRangeException(nameof(amount), \"Amount of deposit must be positive\");\n",
    "        }\n",
    "        var deposit = new Transaction(amount, date, note);\n",
    "        allTransactions.Add(deposit);\n",
    "    }\n",
    "\n",
    "    public void MakeWithdrawal(decimal amount, DateTime date, string note)\n",
    "    {\n",
    "        //Add code here!\n",
    "    }\n",
    "}"
   ]
  },
  {
   "cell_type": "markdown",
   "metadata": {},
   "source": [
    "## #4: Creating initial deposit\n",
    "\n",
    "Now that you have deposits and withdrawals, you can finally make an initial deposit again. What you'll do is create a deposit of the initial amount when you're first constructing the bank account.\n",
    "\n",
    "> Add this code to the `BankAccount` constructor.\n",
    "\n",
    "```\n",
    "MakeDeposit(initialBalance, DateTime.Now, \"Initial balance\");\n",
    "```"
   ]
  },
  {
   "cell_type": "code",
   "execution_count": 31,
   "metadata": {
    "dotnet_interactive": {
     "language": "csharp"
    },
    "polyglot_notebook": {
     "kernelName": "csharp"
    }
   },
   "outputs": [],
   "source": [
    "using System.Collections.Generic;\n",
    "\n",
    "public class BankAccount\n",
    "{\n",
    "    // Properties\n",
    "    public string Number { get; }\n",
    "    public string Owner { get; set; }\n",
    "    public decimal Balance\n",
    "    {\n",
    "        get\n",
    "\n",
    "        {\n",
    "            decimal balance = 0;\n",
    "            foreach (var item in allTransactions)\n",
    "            {\n",
    "                balance += item.Amount;\n",
    "            }\n",
    "\n",
    "            return balance;\n",
    "        }\n",
    "\n",
    "\n",
    "    }\n",
    "    private static int accountNumberSeed = 1234567890;\n",
    "    private List<Transaction> allTransactions = new List<Transaction>();\n",
    "\n",
    "    // Constructor\n",
    "    public BankAccount(string name, decimal initialBalance)\n",
    "    {\n",
    "        this.Owner = name;\n",
    "        this.Number = accountNumberSeed.ToString();\n",
    "        accountNumberSeed++;\n",
    "        //(Paste here!)\n",
    "\n",
    "    }\n",
    "\n",
    "    // Functions\n",
    "    public void MakeDeposit(decimal amount, DateTime date, string note)\n",
    "    {\n",
    "        if (amount <= 0)\n",
    "        {\n",
    "            throw new ArgumentOutOfRangeException(nameof(amount), \"Amount of deposit must be positive\");\n",
    "        }\n",
    "        var deposit = new Transaction(amount, date, note);\n",
    "        allTransactions.Add(deposit);\n",
    "    }\n",
    "\n",
    "    public void MakeWithdrawal(decimal amount, DateTime date, string note)\n",
    "    {\n",
    "        if (amount <= 0)\n",
    "        {\n",
    "            throw new ArgumentOutOfRangeException(nameof(amount), \"Amount of withdrawal must be positive\");\n",
    "        }\n",
    "        if (Balance - amount < 0)\n",
    "        {\n",
    "            throw new InvalidOperationException(\"Not sufficient funds for this withdrawal\");\n",
    "        }\n",
    "        var withdrawal = new Transaction(-amount, date, note);\n",
    "        allTransactions.Add(withdrawal);\n",
    "        }\n",
    "}"
   ]
  },
  {
   "cell_type": "markdown",
   "metadata": {},
   "source": [
    "# Check and test your work\n",
    "\n",
    "There's some added line in the test code, because you can now make deposits and withdrawals. Test it out!\n",
    "\n",
    "> Run the following cells, including the new stuff in the test code.\n",
    ">\n",
    "> Make your own deposit and withdrawal."
   ]
  },
  {
   "cell_type": "code",
   "execution_count": 32,
   "metadata": {
    "dotnet_interactive": {
     "language": "csharp"
    },
    "polyglot_notebook": {
     "kernelName": "csharp"
    }
   },
   "outputs": [],
   "source": [
    "public class Transaction\n",
    "{\n",
    "    // Properties\n",
    "    public decimal Amount { get; }\n",
    "    public DateTime Date { get; }\n",
    "    public string Notes { get; }\n",
    "\n",
    "    // Constructor\n",
    "    public Transaction(decimal amount, DateTime date, string note)\n",
    "    {\n",
    "        this.Amount = amount;\n",
    "        this.Date = date;\n",
    "        this.Notes = note;\n",
    "    }\n",
    "}"
   ]
  },
  {
   "cell_type": "code",
   "execution_count": 33,
   "metadata": {
    "dotnet_interactive": {
     "language": "csharp"
    },
    "polyglot_notebook": {
     "kernelName": "csharp"
    }
   },
   "outputs": [],
   "source": [
    "using System.Collections.Generic;\n",
    "\n",
    "public class BankAccount\n",
    "{\n",
    "    // Properties\n",
    "    public string Number { get; }\n",
    "    public string Owner { get; set; }\n",
    "    public decimal Balance\n",
    "    {\n",
    "        get\n",
    "\n",
    "        {\n",
    "            decimal balance = 0;\n",
    "            foreach (var item in allTransactions)\n",
    "            {\n",
    "                balance += item.Amount;\n",
    "            }\n",
    "\n",
    "            return balance;\n",
    "        }\n",
    "\n",
    "\n",
    "    }\n",
    "    public List<String> Movements\n",
    "    {\n",
    "        get\n",
    "\n",
    "        {\n",
    "            List<String> movimientos = new List<String>();\n",
    "\n",
    "            foreach (var item in allTransactions)\n",
    "            {\n",
    "                movimientos.Add($\"{item.Amount}€ ({item.Notes})\");\n",
    "            }\n",
    "\n",
    "            return movimientos;\n",
    "        }\n",
    "\n",
    "\n",
    "    }\n",
    "    private static int accountNumberSeed = 1234567890;\n",
    "    private List<Transaction> allTransactions = new List<Transaction>();\n",
    "\n",
    "    // Constructor\n",
    "    public BankAccount(string name, decimal initialBalance)\n",
    "    {\n",
    "\n",
    "        this.Owner = name;\n",
    "        this.Number = accountNumberSeed.ToString();\n",
    "        accountNumberSeed++;\n",
    "        MakeDeposit(initialBalance, DateTime.Now, \"Initial balance\"); //(#4)\n",
    "\n",
    "    }\n",
    "\n",
    "    // Functions\n",
    "    public void MakeDeposit(decimal amount, DateTime date, string note)\n",
    "    {\n",
    "        //(#2)\n",
    "        if (amount <= 0)\n",
    "        {\n",
    "            throw new ArgumentOutOfRangeException(nameof(amount), \"Amount of deposit must be positive\");\n",
    "        }\n",
    "        //(#1)\n",
    "        var deposit = new Transaction(amount, date, note);\n",
    "        allTransactions.Add(deposit);\n",
    "    }\n",
    "\n",
    "    public void MakeWithdrawal(decimal amount, DateTime date, string note)\n",
    "    {\n",
    "        //(#3)\n",
    "        if (amount <= 0)\n",
    "        {\n",
    "            throw new ArgumentOutOfRangeException(nameof(amount), \"Amount of withdrawal must be positive\");\n",
    "        }\n",
    "        if (Balance - amount < 0)\n",
    "        {\n",
    "            throw new InvalidOperationException(\"Not sufficient funds for this withdrawal\");\n",
    "        }\n",
    "        var withdrawal = new Transaction(-amount, date, note);\n",
    "        allTransactions.Add(withdrawal);\n",
    "    }\n",
    "}"
   ]
  },
  {
   "cell_type": "code",
   "execution_count": 34,
   "metadata": {
    "dotnet_interactive": {
     "language": "csharp"
    },
    "polyglot_notebook": {
     "kernelName": "csharp"
    }
   },
   "outputs": [
    {
     "name": "stdout",
     "output_type": "stream",
     "text": [
      "La cuenta 1234567890 fue creada para Fernando con 1000€\n"
     ]
    }
   ],
   "source": [
    "BankAccount miCuenta = new BankAccount(\"Fernando\", 1000);\n",
    "Console.WriteLine($\"La cuenta {miCuenta.Number} fue creada para {miCuenta.Owner} con {miCuenta.Balance}€\");\n"
   ]
  },
  {
   "cell_type": "code",
   "execution_count": 35,
   "metadata": {
    "dotnet_interactive": {
     "language": "csharp"
    },
    "polyglot_notebook": {
     "kernelName": "csharp"
    }
   },
   "outputs": [
    {
     "name": "stdout",
     "output_type": "stream",
     "text": [
      "600\n"
     ]
    }
   ],
   "source": [
    "\n",
    "miCuenta.MakeWithdrawal(400, DateTime.Now, \"Pago del alquiler\");  //Added test code\n",
    "Console.WriteLine(miCuenta.Balance);\n"
   ]
  },
  {
   "cell_type": "code",
   "execution_count": 36,
   "metadata": {
    "dotnet_interactive": {
     "language": "csharp"
    },
    "polyglot_notebook": {
     "kernelName": "csharp"
    }
   },
   "outputs": [
    {
     "name": "stdout",
     "output_type": "stream",
     "text": [
      "700\n"
     ]
    }
   ],
   "source": [
    "miCuenta.MakeDeposit(100, DateTime.Now, \"Ingreso de un amigo\");\n",
    "Console.WriteLine(miCuenta.Balance);"
   ]
  },
  {
   "cell_type": "code",
   "execution_count": 37,
   "metadata": {
    "dotnet_interactive": {
     "language": "csharp"
    },
    "polyglot_notebook": {
     "kernelName": "csharp"
    }
   },
   "outputs": [
    {
     "name": "stdout",
     "output_type": "stream",
     "text": [
      "1000€ (Initial balance)\n",
      "-400€ (Pago del alquiler)\n",
      "100€ (Ingreso de un amigo)\n"
     ]
    }
   ],
   "source": [
    "foreach(String mov in miCuenta.Movements)\n",
    "    Console.WriteLine(mov);"
   ]
  },
  {
   "cell_type": "markdown",
   "metadata": {},
   "source": [
    "# Repaso\n",
    "\n",
    "Lo conseguiste! Has implementado con éxito una clase para una cuenta bancaria con los siguiente atributos:\n",
    "\n",
    "> It has a 10-digit number that uniquely identifies the bank account.\n",
    ">\n",
    "> It has a string that stores the name or names of the owners.\n",
    ">\n",
    "> The balance can be retrieved.\n",
    ">\n",
    "> Se pueden obtener los movimientos realizados.\n",
    ">\n",
    "> It accepts deposits.\n",
    ">\n",
    "> It accepts withdrawals.\n",
    ">\n",
    "> The initial balance must be positive.\n",
    ">\n",
    "> Withdrawals cannot result in a negative balance.\n",
    ">\n",
    "\n",
    "## Ejecicio\n",
    "\n",
    "Ahora que has creado esta clase, sigue implementando a partir de ella. Éste será el reto:\n",
    "> Añádele un modo para listar las transacciones realizadas. Pero de modo que incluyan además la fecha en que fueron realizadas.\n"
   ]
  }
 ],
 "metadata": {
  "kernelspec": {
   "display_name": ".NET (C#)",
   "language": "C#",
   "name": ".net-csharp"
  },
  "language_info": {
   "name": "polyglot-notebook"
  },
  "polyglot_notebook": {
   "kernelInfo": {
    "defaultKernelName": "csharp",
    "items": [
     {
      "aliases": [],
      "name": "csharp"
     }
    ]
   }
  }
 },
 "nbformat": 4,
 "nbformat_minor": 2
}
