{
 "cells": [
  {
   "cell_type": "markdown",
   "metadata": {},
   "source": [
    "# Ejemplo de Diagrama de Clases"
   ]
  },
  {
   "cell_type": "code",
   "execution_count": 5,
   "metadata": {
    "dotnet_interactive": {
     "language": "mermaid"
    },
    "polyglot_notebook": {
     "kernelName": "mermaid"
    },
    "vscode": {
     "languageId": "polyglot-notebook"
    }
   },
   "outputs": [
    {
     "data": {
      "text/html": [
       "<div class=\"mermaidMarkdownContainer\" style=\"background-color:white\">\n",
       "<link rel=\"stylesheet\" href=\"https://cdnjs.cloudflare.com/ajax/libs/font-awesome/6.2.0/css/all.min.css\">\n",
       "<div id=\"3da26159d4ba442b935f206c82107c33\"></div>\n",
       "<script type=\"module\">\n",
       "\r\n",
       "            import mermaid from 'https://cdn.jsdelivr.net/npm/mermaid@10.1.0/dist/mermaid.esm.min.mjs';\r\n",
       "            let renderTarget = document.getElementById('3da26159d4ba442b935f206c82107c33');\r\n",
       "            try {\r\n",
       "                const {svg, bindFunctions} = await mermaid.mermaidAPI.render( \r\n",
       "                    'mermaid_3da26159d4ba442b935f206c82107c33', \r\n",
       "                    `classDiagram\n",
       "    note \"From Pato till Cebra\"\n",
       "    Animal <|-- Pato\n",
       "    note for Pato \"puede volar\\\\npuede nadar\\\\npuede nadar\\\\npuede ayudar en el debugging\"\n",
       "    Animal <|-- Pez\n",
       "    Animal <|-- Cebra\n",
       "    Animal : +int edad\n",
       "    Animal : +String genero\n",
       "    Animal: +esMamifero()\n",
       "    Animal: +mate()\n",
       "    class Pato{\n",
       "        +String beakColor\n",
       "        +nada()\n",
       "        +cuackea()\n",
       "    }\n",
       "    class Pez{\n",
       "        -int tamaño_cm\n",
       "        -puedeComer()\n",
       "    }\n",
       "    class Cebra{\n",
       "        +bool esSalvaje\n",
       "        +corre()\n",
       "    }`);\r\n",
       "                renderTarget.innerHTML = svg;\r\n",
       "                bindFunctions?.(renderTarget);\r\n",
       "            }\r\n",
       "            catch (error) {\r\n",
       "                console.log(error);\r\n",
       "            }\n",
       "</script>\n",
       "</div>\n"
      ]
     },
     "metadata": {},
     "output_type": "display_data"
    }
   ],
   "source": [
    "classDiagram\n",
    "    note \"From Pato till Cebra\"\n",
    "    Animal <|-- Pato\n",
    "    note for Pato \"puede volar\\npuede nadar\\npuede nadar\\npuede ayudar en el debugging\"\n",
    "    Animal <|-- Pez\n",
    "    Animal <|-- Cebra\n",
    "    Animal : +int edad\n",
    "    Animal : +String genero\n",
    "    Animal: +esMamifero()\n",
    "    Animal: +mate()\n",
    "    class Pato{\n",
    "        +String beakColor\n",
    "        +nada()\n",
    "        +cuackea()\n",
    "    }\n",
    "    class Pez{\n",
    "        -int tamaño_cm\n",
    "        -puedeComer()\n",
    "    }\n",
    "    class Cebra{\n",
    "        +bool esSalvaje\n",
    "        +corre()\n",
    "    }"
   ]
  }
 ],
 "metadata": {
  "kernelspec": {
   "display_name": ".NET (C#)",
   "language": "C#",
   "name": ".net-csharp"
  },
  "language_info": {
   "file_extension": ".cs",
   "mimetype": "text/x-csharp",
   "name": "C#",
   "pygments_lexer": "csharp",
   "version": "11.0"
  },
  "polyglot_notebook": {
   "kernelInfo": {
    "defaultKernelName": "csharp",
    "items": [
     {
      "aliases": [],
      "languageName": "csharp",
      "name": "csharp"
     }
    ]
   }
  }
 },
 "nbformat": 4,
 "nbformat_minor": 2
}
